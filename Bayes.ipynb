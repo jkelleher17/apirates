{
 "cells": [
  {
   "cell_type": "markdown",
   "metadata": {},
   "source": [
    "# Bayesian Regression"
   ]
  },
  {
   "cell_type": "code",
   "execution_count": 1,
   "metadata": {
    "collapsed": true
   },
   "outputs": [],
   "source": [
    "%matplotlib inline\n",
    "import csv\n",
    "import numpy as np\n",
    "# import scipy as sp\n",
    "import matplotlib as mpl\n",
    "import matplotlib.cm as cm\n",
    "import matplotlib.pyplot as plt\n",
    "import pandas as pd\n",
    "pd.set_option('display.width', 500)\n",
    "pd.set_option('display.max_columns', 100)\n",
    "pd.set_option('display.notebook_repr_html', True)\n",
    "import seaborn as sns\n",
    "sns.set_style(\"whitegrid\")\n",
    "sns.set_context(\"poster\")\n",
    "import scipy\n",
    "import scipy.stats"
   ]
  },
  {
   "cell_type": "code",
   "execution_count": 2,
   "metadata": {
    "collapsed": true
   },
   "outputs": [],
   "source": [
    "np.set_printoptions(suppress=True)"
   ]
  },
  {
   "cell_type": "markdown",
   "metadata": {},
   "source": [
    "### Prepare the features for use in statistical analysis."
   ]
  },
  {
   "cell_type": "code",
   "execution_count": 3,
   "metadata": {
    "collapsed": false
   },
   "outputs": [],
   "source": [
    "pickledf = pd.read_pickle('cleandf')"
   ]
  },
  {
   "cell_type": "code",
   "execution_count": 4,
   "metadata": {
    "collapsed": true
   },
   "outputs": [],
   "source": [
    "dftouse=pickledf.copy()"
   ]
  },
  {
   "cell_type": "code",
   "execution_count": 5,
   "metadata": {
    "collapsed": true
   },
   "outputs": [],
   "source": [
    "dftouse['Log_ResidentialUnits'] = np.log(dftouse['RESIDENTIAL UNITS'].values+1)\n",
    "dftouse['Log_CommercialUnits'] = np.log(dftouse['COMMERCIAL UNITS'].values+1)\n",
    "dftouse['Log_TotalUnits'] = np.log(dftouse['TOTAL UNITS'].values+1)\n",
    "dftouse['Log_GrossSqft'] = np.log(dftouse['GROSS SQUARE FEET'].values)\n",
    "dftouse['Log_1count'] = np.log(dftouse['1-count'].values)\n",
    "dftouse['Log_2count'] = np.log(dftouse['2-count'].values)\n",
    "dftouse['Log_3count'] = np.log(dftouse['3-count'].values)\n",
    "dftouse['Log_Hospitals'] = np.log(dftouse['Hospitals'].values+1)"
   ]
  },
  {
   "cell_type": "code",
   "execution_count": 6,
   "metadata": {
    "collapsed": false
   },
   "outputs": [
    {
     "data": {
      "text/html": [
       "<div>\n",
       "<table border=\"1\" class=\"dataframe\">\n",
       "  <thead>\n",
       "    <tr style=\"text-align: right;\">\n",
       "      <th></th>\n",
       "      <th>BOROUGH</th>\n",
       "      <th>NEIGHBORHOOD</th>\n",
       "      <th>BUILDING CLASS CATEGORY</th>\n",
       "      <th>TAX CLASS AT PRESENT</th>\n",
       "      <th>BLOCK</th>\n",
       "      <th>LOT</th>\n",
       "      <th>BUILDING CLASS AT PRESENT</th>\n",
       "      <th>ADDRESS</th>\n",
       "      <th>ZIP CODE</th>\n",
       "      <th>RESIDENTIAL UNITS</th>\n",
       "      <th>COMMERCIAL UNITS</th>\n",
       "      <th>TOTAL UNITS</th>\n",
       "      <th>GROSS SQUARE FEET</th>\n",
       "      <th>YEAR BUILT</th>\n",
       "      <th>TAX CLASS AT TIME OF SALE</th>\n",
       "      <th>BUILDING CLASS AT TIME OF SALE</th>\n",
       "      <th>SALE PRICE</th>\n",
       "      <th>SALE DATE</th>\n",
       "      <th>YEAR</th>\n",
       "      <th>price_ft</th>\n",
       "      <th>Log_Price_Sqft</th>\n",
       "      <th>1-mean_log_Pft</th>\n",
       "      <th>1-std_log_Pft</th>\n",
       "      <th>1-count</th>\n",
       "      <th>1-median_log_Pft</th>\n",
       "      <th>2-mean_log_Pft</th>\n",
       "      <th>2-std_log_Pft</th>\n",
       "      <th>2-count</th>\n",
       "      <th>2-median_log_Pft</th>\n",
       "      <th>3-mean_log_Pft</th>\n",
       "      <th>3-std_log_Pft</th>\n",
       "      <th>3-count</th>\n",
       "      <th>3-median_log_Pft</th>\n",
       "      <th>Hospitals</th>\n",
       "      <th>Bad Hospitals</th>\n",
       "      <th>High School Graduation Rate</th>\n",
       "      <th>College Graduation Rate</th>\n",
       "      <th>Hispanic</th>\n",
       "      <th>Black</th>\n",
       "      <th>Asian</th>\n",
       "      <th>White</th>\n",
       "      <th>Population</th>\n",
       "      <th>Labor Force</th>\n",
       "      <th>Employed</th>\n",
       "      <th>Unemployed</th>\n",
       "      <th>MONTH</th>\n",
       "      <th>MONTH/YEAR</th>\n",
       "      <th>10001</th>\n",
       "      <th>10002</th>\n",
       "      <th>10003</th>\n",
       "      <th>...</th>\n",
       "      <th>11366</th>\n",
       "      <th>11367</th>\n",
       "      <th>11368</th>\n",
       "      <th>11369</th>\n",
       "      <th>11370</th>\n",
       "      <th>11372</th>\n",
       "      <th>11373</th>\n",
       "      <th>11374</th>\n",
       "      <th>11375</th>\n",
       "      <th>11377</th>\n",
       "      <th>11378</th>\n",
       "      <th>11379</th>\n",
       "      <th>11385</th>\n",
       "      <th>11411</th>\n",
       "      <th>11412</th>\n",
       "      <th>11413</th>\n",
       "      <th>11414</th>\n",
       "      <th>11415</th>\n",
       "      <th>11416</th>\n",
       "      <th>11417</th>\n",
       "      <th>11418</th>\n",
       "      <th>11419</th>\n",
       "      <th>11420</th>\n",
       "      <th>11421</th>\n",
       "      <th>11422</th>\n",
       "      <th>11423</th>\n",
       "      <th>11426</th>\n",
       "      <th>11427</th>\n",
       "      <th>11428</th>\n",
       "      <th>11429</th>\n",
       "      <th>11432</th>\n",
       "      <th>11433</th>\n",
       "      <th>11434</th>\n",
       "      <th>11435</th>\n",
       "      <th>11436</th>\n",
       "      <th>11691</th>\n",
       "      <th>11692</th>\n",
       "      <th>11693</th>\n",
       "      <th>Q2</th>\n",
       "      <th>Q3</th>\n",
       "      <th>Q4</th>\n",
       "      <th>Log_Sale_Price</th>\n",
       "      <th>Log_ResidentialUnits</th>\n",
       "      <th>Log_CommercialUnits</th>\n",
       "      <th>Log_TotalUnits</th>\n",
       "      <th>Log_GrossSqft</th>\n",
       "      <th>Log_1count</th>\n",
       "      <th>Log_2count</th>\n",
       "      <th>Log_3count</th>\n",
       "      <th>Log_Hospitals</th>\n",
       "    </tr>\n",
       "  </thead>\n",
       "  <tbody>\n",
       "    <tr>\n",
       "      <th>0</th>\n",
       "      <td>1</td>\n",
       "      <td>KIPS BAY</td>\n",
       "      <td>08  RENTALS - ELEVATOR APARTMENTS</td>\n",
       "      <td>2</td>\n",
       "      <td>966</td>\n",
       "      <td>1</td>\n",
       "      <td>D7</td>\n",
       "      <td>401-429 EAST 34TH STREET</td>\n",
       "      <td>10016</td>\n",
       "      <td>706</td>\n",
       "      <td>1</td>\n",
       "      <td>707</td>\n",
       "      <td>835279</td>\n",
       "      <td>1985</td>\n",
       "      <td>2</td>\n",
       "      <td>D7</td>\n",
       "      <td>443403000</td>\n",
       "      <td>2011-07-19</td>\n",
       "      <td>2011</td>\n",
       "      <td>530.844185</td>\n",
       "      <td>6.274469</td>\n",
       "      <td>5.484593</td>\n",
       "      <td>2.229844</td>\n",
       "      <td>27</td>\n",
       "      <td>6.114937</td>\n",
       "      <td>6.345817</td>\n",
       "      <td>0.365633</td>\n",
       "      <td>13</td>\n",
       "      <td>6.343441</td>\n",
       "      <td>5.556865</td>\n",
       "      <td>1.855114</td>\n",
       "      <td>22</td>\n",
       "      <td>6.326369</td>\n",
       "      <td>84</td>\n",
       "      <td>0</td>\n",
       "      <td>96.6</td>\n",
       "      <td>79.8</td>\n",
       "      <td>0.047922</td>\n",
       "      <td>0.035216</td>\n",
       "      <td>0.137032</td>\n",
       "      <td>0.759497</td>\n",
       "      <td>53754</td>\n",
       "      <td>77.4</td>\n",
       "      <td>73.5</td>\n",
       "      <td>5.0</td>\n",
       "      <td>7</td>\n",
       "      <td>(7, 2011)</td>\n",
       "      <td>0</td>\n",
       "      <td>0</td>\n",
       "      <td>0</td>\n",
       "      <td>...</td>\n",
       "      <td>0</td>\n",
       "      <td>0</td>\n",
       "      <td>0</td>\n",
       "      <td>0</td>\n",
       "      <td>0</td>\n",
       "      <td>0</td>\n",
       "      <td>0</td>\n",
       "      <td>0</td>\n",
       "      <td>0</td>\n",
       "      <td>0</td>\n",
       "      <td>0</td>\n",
       "      <td>0</td>\n",
       "      <td>0</td>\n",
       "      <td>0</td>\n",
       "      <td>0</td>\n",
       "      <td>0</td>\n",
       "      <td>0</td>\n",
       "      <td>0</td>\n",
       "      <td>0</td>\n",
       "      <td>0</td>\n",
       "      <td>0</td>\n",
       "      <td>0</td>\n",
       "      <td>0</td>\n",
       "      <td>0</td>\n",
       "      <td>0</td>\n",
       "      <td>0</td>\n",
       "      <td>0</td>\n",
       "      <td>0</td>\n",
       "      <td>0</td>\n",
       "      <td>0</td>\n",
       "      <td>0</td>\n",
       "      <td>0</td>\n",
       "      <td>0</td>\n",
       "      <td>0</td>\n",
       "      <td>0</td>\n",
       "      <td>0</td>\n",
       "      <td>0</td>\n",
       "      <td>0</td>\n",
       "      <td>0</td>\n",
       "      <td>1</td>\n",
       "      <td>0</td>\n",
       "      <td>19.909990</td>\n",
       "      <td>6.561031</td>\n",
       "      <td>0.693147</td>\n",
       "      <td>6.562444</td>\n",
       "      <td>13.635521</td>\n",
       "      <td>3.295837</td>\n",
       "      <td>2.564949</td>\n",
       "      <td>3.091042</td>\n",
       "      <td>4.442651</td>\n",
       "    </tr>\n",
       "    <tr>\n",
       "      <th>1</th>\n",
       "      <td>1</td>\n",
       "      <td>UPPER EAST SIDE (79-96)</td>\n",
       "      <td>08  RENTALS - ELEVATOR APARTMENTS</td>\n",
       "      <td>2</td>\n",
       "      <td>1549</td>\n",
       "      <td>1</td>\n",
       "      <td>D6</td>\n",
       "      <td>305-315 EAST 86 STREET</td>\n",
       "      <td>10028</td>\n",
       "      <td>695</td>\n",
       "      <td>3</td>\n",
       "      <td>698</td>\n",
       "      <td>690703</td>\n",
       "      <td>1964</td>\n",
       "      <td>2</td>\n",
       "      <td>D6</td>\n",
       "      <td>395000000</td>\n",
       "      <td>2014-09-22</td>\n",
       "      <td>2014</td>\n",
       "      <td>571.881112</td>\n",
       "      <td>6.348931</td>\n",
       "      <td>6.945146</td>\n",
       "      <td>0.530601</td>\n",
       "      <td>22</td>\n",
       "      <td>6.999318</td>\n",
       "      <td>6.455037</td>\n",
       "      <td>1.230122</td>\n",
       "      <td>55</td>\n",
       "      <td>6.627145</td>\n",
       "      <td>6.285564</td>\n",
       "      <td>1.763125</td>\n",
       "      <td>23</td>\n",
       "      <td>6.708895</td>\n",
       "      <td>24</td>\n",
       "      <td>0</td>\n",
       "      <td>98.4</td>\n",
       "      <td>80.7</td>\n",
       "      <td>0.005956</td>\n",
       "      <td>0.011783</td>\n",
       "      <td>0.070935</td>\n",
       "      <td>0.884035</td>\n",
       "      <td>46169</td>\n",
       "      <td>74.5</td>\n",
       "      <td>70.3</td>\n",
       "      <td>5.6</td>\n",
       "      <td>9</td>\n",
       "      <td>(9, 2014)</td>\n",
       "      <td>0</td>\n",
       "      <td>0</td>\n",
       "      <td>0</td>\n",
       "      <td>...</td>\n",
       "      <td>0</td>\n",
       "      <td>0</td>\n",
       "      <td>0</td>\n",
       "      <td>0</td>\n",
       "      <td>0</td>\n",
       "      <td>0</td>\n",
       "      <td>0</td>\n",
       "      <td>0</td>\n",
       "      <td>0</td>\n",
       "      <td>0</td>\n",
       "      <td>0</td>\n",
       "      <td>0</td>\n",
       "      <td>0</td>\n",
       "      <td>0</td>\n",
       "      <td>0</td>\n",
       "      <td>0</td>\n",
       "      <td>0</td>\n",
       "      <td>0</td>\n",
       "      <td>0</td>\n",
       "      <td>0</td>\n",
       "      <td>0</td>\n",
       "      <td>0</td>\n",
       "      <td>0</td>\n",
       "      <td>0</td>\n",
       "      <td>0</td>\n",
       "      <td>0</td>\n",
       "      <td>0</td>\n",
       "      <td>0</td>\n",
       "      <td>0</td>\n",
       "      <td>0</td>\n",
       "      <td>0</td>\n",
       "      <td>0</td>\n",
       "      <td>0</td>\n",
       "      <td>0</td>\n",
       "      <td>0</td>\n",
       "      <td>0</td>\n",
       "      <td>0</td>\n",
       "      <td>0</td>\n",
       "      <td>0</td>\n",
       "      <td>1</td>\n",
       "      <td>0</td>\n",
       "      <td>19.794396</td>\n",
       "      <td>6.545350</td>\n",
       "      <td>1.386294</td>\n",
       "      <td>6.549651</td>\n",
       "      <td>13.445465</td>\n",
       "      <td>3.091042</td>\n",
       "      <td>4.007333</td>\n",
       "      <td>3.135494</td>\n",
       "      <td>3.218876</td>\n",
       "    </tr>\n",
       "    <tr>\n",
       "      <th>2</th>\n",
       "      <td>1</td>\n",
       "      <td>MIDTOWN CBD</td>\n",
       "      <td>22  STORE BUILDINGS</td>\n",
       "      <td>4</td>\n",
       "      <td>1290</td>\n",
       "      <td>72</td>\n",
       "      <td>K9</td>\n",
       "      <td>697 5 AVENUE</td>\n",
       "      <td>10022</td>\n",
       "      <td>0</td>\n",
       "      <td>3</td>\n",
       "      <td>3</td>\n",
       "      <td>10944</td>\n",
       "      <td>1925</td>\n",
       "      <td>4</td>\n",
       "      <td>K9</td>\n",
       "      <td>380600000</td>\n",
       "      <td>2012-10-11</td>\n",
       "      <td>2012</td>\n",
       "      <td>34777.046784</td>\n",
       "      <td>10.456713</td>\n",
       "      <td>6.204245</td>\n",
       "      <td>2.117714</td>\n",
       "      <td>21</td>\n",
       "      <td>6.595381</td>\n",
       "      <td>6.777954</td>\n",
       "      <td>0.932843</td>\n",
       "      <td>29</td>\n",
       "      <td>6.824027</td>\n",
       "      <td>6.252587</td>\n",
       "      <td>1.541622</td>\n",
       "      <td>13</td>\n",
       "      <td>6.714776</td>\n",
       "      <td>11</td>\n",
       "      <td>0</td>\n",
       "      <td>98.6</td>\n",
       "      <td>79.5</td>\n",
       "      <td>0.008050</td>\n",
       "      <td>0.023434</td>\n",
       "      <td>0.100010</td>\n",
       "      <td>0.852816</td>\n",
       "      <td>29317</td>\n",
       "      <td>71.4</td>\n",
       "      <td>66.9</td>\n",
       "      <td>6.3</td>\n",
       "      <td>10</td>\n",
       "      <td>(10, 2012)</td>\n",
       "      <td>0</td>\n",
       "      <td>0</td>\n",
       "      <td>0</td>\n",
       "      <td>...</td>\n",
       "      <td>0</td>\n",
       "      <td>0</td>\n",
       "      <td>0</td>\n",
       "      <td>0</td>\n",
       "      <td>0</td>\n",
       "      <td>0</td>\n",
       "      <td>0</td>\n",
       "      <td>0</td>\n",
       "      <td>0</td>\n",
       "      <td>0</td>\n",
       "      <td>0</td>\n",
       "      <td>0</td>\n",
       "      <td>0</td>\n",
       "      <td>0</td>\n",
       "      <td>0</td>\n",
       "      <td>0</td>\n",
       "      <td>0</td>\n",
       "      <td>0</td>\n",
       "      <td>0</td>\n",
       "      <td>0</td>\n",
       "      <td>0</td>\n",
       "      <td>0</td>\n",
       "      <td>0</td>\n",
       "      <td>0</td>\n",
       "      <td>0</td>\n",
       "      <td>0</td>\n",
       "      <td>0</td>\n",
       "      <td>0</td>\n",
       "      <td>0</td>\n",
       "      <td>0</td>\n",
       "      <td>0</td>\n",
       "      <td>0</td>\n",
       "      <td>0</td>\n",
       "      <td>0</td>\n",
       "      <td>0</td>\n",
       "      <td>0</td>\n",
       "      <td>0</td>\n",
       "      <td>0</td>\n",
       "      <td>0</td>\n",
       "      <td>0</td>\n",
       "      <td>1</td>\n",
       "      <td>19.757260</td>\n",
       "      <td>0.000000</td>\n",
       "      <td>1.386294</td>\n",
       "      <td>1.386294</td>\n",
       "      <td>9.300547</td>\n",
       "      <td>3.044522</td>\n",
       "      <td>3.367296</td>\n",
       "      <td>2.564949</td>\n",
       "      <td>2.484907</td>\n",
       "    </tr>\n",
       "    <tr>\n",
       "      <th>3</th>\n",
       "      <td>1</td>\n",
       "      <td>MIDTOWN CBD</td>\n",
       "      <td>22  STORE BUILDINGS</td>\n",
       "      <td>4</td>\n",
       "      <td>1290</td>\n",
       "      <td>72</td>\n",
       "      <td>K4</td>\n",
       "      <td>697 5 AVENUE</td>\n",
       "      <td>10022</td>\n",
       "      <td>0</td>\n",
       "      <td>1</td>\n",
       "      <td>1</td>\n",
       "      <td>10944</td>\n",
       "      <td>1925</td>\n",
       "      <td>4</td>\n",
       "      <td>K4</td>\n",
       "      <td>373486928</td>\n",
       "      <td>2014-10-28</td>\n",
       "      <td>2014</td>\n",
       "      <td>34127.095029</td>\n",
       "      <td>10.437847</td>\n",
       "      <td>6.935865</td>\n",
       "      <td>0.978736</td>\n",
       "      <td>41</td>\n",
       "      <td>7.038995</td>\n",
       "      <td>6.232447</td>\n",
       "      <td>1.982575</td>\n",
       "      <td>38</td>\n",
       "      <td>6.533203</td>\n",
       "      <td>6.204245</td>\n",
       "      <td>2.117714</td>\n",
       "      <td>21</td>\n",
       "      <td>6.595381</td>\n",
       "      <td>11</td>\n",
       "      <td>0</td>\n",
       "      <td>97.6</td>\n",
       "      <td>80.9</td>\n",
       "      <td>0.011381</td>\n",
       "      <td>0.016499</td>\n",
       "      <td>0.097613</td>\n",
       "      <td>0.860500</td>\n",
       "      <td>29699</td>\n",
       "      <td>71.6</td>\n",
       "      <td>67.0</td>\n",
       "      <td>6.5</td>\n",
       "      <td>10</td>\n",
       "      <td>(10, 2014)</td>\n",
       "      <td>0</td>\n",
       "      <td>0</td>\n",
       "      <td>0</td>\n",
       "      <td>...</td>\n",
       "      <td>0</td>\n",
       "      <td>0</td>\n",
       "      <td>0</td>\n",
       "      <td>0</td>\n",
       "      <td>0</td>\n",
       "      <td>0</td>\n",
       "      <td>0</td>\n",
       "      <td>0</td>\n",
       "      <td>0</td>\n",
       "      <td>0</td>\n",
       "      <td>0</td>\n",
       "      <td>0</td>\n",
       "      <td>0</td>\n",
       "      <td>0</td>\n",
       "      <td>0</td>\n",
       "      <td>0</td>\n",
       "      <td>0</td>\n",
       "      <td>0</td>\n",
       "      <td>0</td>\n",
       "      <td>0</td>\n",
       "      <td>0</td>\n",
       "      <td>0</td>\n",
       "      <td>0</td>\n",
       "      <td>0</td>\n",
       "      <td>0</td>\n",
       "      <td>0</td>\n",
       "      <td>0</td>\n",
       "      <td>0</td>\n",
       "      <td>0</td>\n",
       "      <td>0</td>\n",
       "      <td>0</td>\n",
       "      <td>0</td>\n",
       "      <td>0</td>\n",
       "      <td>0</td>\n",
       "      <td>0</td>\n",
       "      <td>0</td>\n",
       "      <td>0</td>\n",
       "      <td>0</td>\n",
       "      <td>0</td>\n",
       "      <td>0</td>\n",
       "      <td>1</td>\n",
       "      <td>19.738394</td>\n",
       "      <td>0.000000</td>\n",
       "      <td>0.693147</td>\n",
       "      <td>0.693147</td>\n",
       "      <td>9.300547</td>\n",
       "      <td>3.713572</td>\n",
       "      <td>3.637586</td>\n",
       "      <td>3.044522</td>\n",
       "      <td>2.484907</td>\n",
       "    </tr>\n",
       "    <tr>\n",
       "      <th>4</th>\n",
       "      <td>1</td>\n",
       "      <td>MURRAY HILL</td>\n",
       "      <td>08  RENTALS - ELEVATOR APARTMENTS</td>\n",
       "      <td>2</td>\n",
       "      <td>858</td>\n",
       "      <td>8</td>\n",
       "      <td>D8</td>\n",
       "      <td>7 EAST 28TH   STREET</td>\n",
       "      <td>10016</td>\n",
       "      <td>397</td>\n",
       "      <td>1</td>\n",
       "      <td>398</td>\n",
       "      <td>388946</td>\n",
       "      <td>1998</td>\n",
       "      <td>2</td>\n",
       "      <td>D8</td>\n",
       "      <td>300000000</td>\n",
       "      <td>2012-12-04</td>\n",
       "      <td>2012</td>\n",
       "      <td>771.315298</td>\n",
       "      <td>6.648097</td>\n",
       "      <td>5.359823</td>\n",
       "      <td>2.291699</td>\n",
       "      <td>31</td>\n",
       "      <td>6.339263</td>\n",
       "      <td>5.484593</td>\n",
       "      <td>2.229844</td>\n",
       "      <td>27</td>\n",
       "      <td>6.114937</td>\n",
       "      <td>6.345817</td>\n",
       "      <td>0.365633</td>\n",
       "      <td>13</td>\n",
       "      <td>6.343441</td>\n",
       "      <td>84</td>\n",
       "      <td>0</td>\n",
       "      <td>96.9</td>\n",
       "      <td>80.3</td>\n",
       "      <td>0.037112</td>\n",
       "      <td>0.035193</td>\n",
       "      <td>0.137675</td>\n",
       "      <td>0.769212</td>\n",
       "      <td>52624</td>\n",
       "      <td>76.9</td>\n",
       "      <td>72.8</td>\n",
       "      <td>5.3</td>\n",
       "      <td>12</td>\n",
       "      <td>(12, 2012)</td>\n",
       "      <td>0</td>\n",
       "      <td>0</td>\n",
       "      <td>0</td>\n",
       "      <td>...</td>\n",
       "      <td>0</td>\n",
       "      <td>0</td>\n",
       "      <td>0</td>\n",
       "      <td>0</td>\n",
       "      <td>0</td>\n",
       "      <td>0</td>\n",
       "      <td>0</td>\n",
       "      <td>0</td>\n",
       "      <td>0</td>\n",
       "      <td>0</td>\n",
       "      <td>0</td>\n",
       "      <td>0</td>\n",
       "      <td>0</td>\n",
       "      <td>0</td>\n",
       "      <td>0</td>\n",
       "      <td>0</td>\n",
       "      <td>0</td>\n",
       "      <td>0</td>\n",
       "      <td>0</td>\n",
       "      <td>0</td>\n",
       "      <td>0</td>\n",
       "      <td>0</td>\n",
       "      <td>0</td>\n",
       "      <td>0</td>\n",
       "      <td>0</td>\n",
       "      <td>0</td>\n",
       "      <td>0</td>\n",
       "      <td>0</td>\n",
       "      <td>0</td>\n",
       "      <td>0</td>\n",
       "      <td>0</td>\n",
       "      <td>0</td>\n",
       "      <td>0</td>\n",
       "      <td>0</td>\n",
       "      <td>0</td>\n",
       "      <td>0</td>\n",
       "      <td>0</td>\n",
       "      <td>0</td>\n",
       "      <td>0</td>\n",
       "      <td>0</td>\n",
       "      <td>1</td>\n",
       "      <td>19.519293</td>\n",
       "      <td>5.986452</td>\n",
       "      <td>0.693147</td>\n",
       "      <td>5.988961</td>\n",
       "      <td>12.871196</td>\n",
       "      <td>3.433987</td>\n",
       "      <td>3.295837</td>\n",
       "      <td>2.564949</td>\n",
       "      <td>4.442651</td>\n",
       "    </tr>\n",
       "  </tbody>\n",
       "</table>\n",
       "<p>5 rows × 213 columns</p>\n",
       "</div>"
      ],
      "text/plain": [
       "   BOROUGH               NEIGHBORHOOD                       BUILDING CLASS CATEGORY TAX CLASS AT PRESENT  BLOCK  LOT BUILDING CLASS AT PRESENT                                    ADDRESS  ZIP CODE  RESIDENTIAL UNITS  COMMERCIAL UNITS  TOTAL UNITS  GROSS SQUARE FEET  YEAR BUILT  TAX CLASS AT TIME OF SALE BUILDING CLASS AT TIME OF SALE  SALE PRICE  SALE DATE  YEAR      price_ft  Log_Price_Sqft  1-mean_log_Pft  1-std_log_Pft  1-count  1-median_log_Pft  2-mean_log_Pft  2-std_log_Pft  2-count  \\\n",
       "0        1  KIPS BAY                   08  RENTALS - ELEVATOR APARTMENTS                               2    966    1                        D7  401-429 EAST 34TH STREET                      10016                706                 1          707             835279        1985                          2                             D7   443403000 2011-07-19  2011    530.844185        6.274469        5.484593       2.229844       27          6.114937        6.345817       0.365633       13   \n",
       "1        1  UPPER EAST SIDE (79-96)    08  RENTALS - ELEVATOR APARTMENTS                               2   1549    1                        D6  305-315 EAST 86 STREET                        10028                695                 3          698             690703        1964                          2                             D6   395000000 2014-09-22  2014    571.881112        6.348931        6.945146       0.530601       22          6.999318        6.455037       1.230122       55   \n",
       "2        1  MIDTOWN CBD                22  STORE BUILDINGS                                             4   1290   72                        K9  697 5 AVENUE                                  10022                  0                 3            3              10944        1925                          4                             K9   380600000 2012-10-11  2012  34777.046784       10.456713        6.204245       2.117714       21          6.595381        6.777954       0.932843       29   \n",
       "3        1  MIDTOWN CBD                22  STORE BUILDINGS                                             4   1290   72                        K4  697 5 AVENUE                                  10022                  0                 1            1              10944        1925                          4                             K4   373486928 2014-10-28  2014  34127.095029       10.437847        6.935865       0.978736       41          7.038995        6.232447       1.982575       38   \n",
       "4        1  MURRAY HILL                08  RENTALS - ELEVATOR APARTMENTS                               2    858    8                        D8  7 EAST 28TH   STREET                          10016                397                 1          398             388946        1998                          2                             D8   300000000 2012-12-04  2012    771.315298        6.648097        5.359823       2.291699       31          6.339263        5.484593       2.229844       27   \n",
       "\n",
       "   2-median_log_Pft  3-mean_log_Pft  3-std_log_Pft  3-count  3-median_log_Pft  Hospitals  Bad Hospitals  High School Graduation Rate  College Graduation Rate  Hispanic     Black     Asian     White  Population  Labor Force  Employed  Unemployed  MONTH  MONTH/YEAR  10001  10002  10003      ...        11366  11367  11368  11369  11370  11372  11373  11374  11375  11377  11378  11379  11385  11411  11412  11413  11414  11415  11416  11417  11418  11419  11420  11421  11422  11423  11426  11427  \\\n",
       "0          6.343441        5.556865       1.855114       22          6.326369         84              0                         96.6                     79.8  0.047922  0.035216  0.137032  0.759497       53754         77.4      73.5         5.0      7   (7, 2011)      0      0      0      ...            0      0      0      0      0      0      0      0      0      0      0      0      0      0      0      0      0      0      0      0      0      0      0      0      0      0      0      0   \n",
       "1          6.627145        6.285564       1.763125       23          6.708895         24              0                         98.4                     80.7  0.005956  0.011783  0.070935  0.884035       46169         74.5      70.3         5.6      9   (9, 2014)      0      0      0      ...            0      0      0      0      0      0      0      0      0      0      0      0      0      0      0      0      0      0      0      0      0      0      0      0      0      0      0      0   \n",
       "2          6.824027        6.252587       1.541622       13          6.714776         11              0                         98.6                     79.5  0.008050  0.023434  0.100010  0.852816       29317         71.4      66.9         6.3     10  (10, 2012)      0      0      0      ...            0      0      0      0      0      0      0      0      0      0      0      0      0      0      0      0      0      0      0      0      0      0      0      0      0      0      0      0   \n",
       "3          6.533203        6.204245       2.117714       21          6.595381         11              0                         97.6                     80.9  0.011381  0.016499  0.097613  0.860500       29699         71.6      67.0         6.5     10  (10, 2014)      0      0      0      ...            0      0      0      0      0      0      0      0      0      0      0      0      0      0      0      0      0      0      0      0      0      0      0      0      0      0      0      0   \n",
       "4          6.114937        6.345817       0.365633       13          6.343441         84              0                         96.9                     80.3  0.037112  0.035193  0.137675  0.769212       52624         76.9      72.8         5.3     12  (12, 2012)      0      0      0      ...            0      0      0      0      0      0      0      0      0      0      0      0      0      0      0      0      0      0      0      0      0      0      0      0      0      0      0      0   \n",
       "\n",
       "   11428  11429  11432  11433  11434  11435  11436  11691  11692  11693  Q2  Q3  Q4  Log_Sale_Price  Log_ResidentialUnits  Log_CommercialUnits  Log_TotalUnits  Log_GrossSqft  Log_1count  Log_2count  Log_3count  Log_Hospitals  \n",
       "0      0      0      0      0      0      0      0      0      0      0   0   1   0       19.909990              6.561031             0.693147        6.562444      13.635521    3.295837    2.564949    3.091042       4.442651  \n",
       "1      0      0      0      0      0      0      0      0      0      0   0   1   0       19.794396              6.545350             1.386294        6.549651      13.445465    3.091042    4.007333    3.135494       3.218876  \n",
       "2      0      0      0      0      0      0      0      0      0      0   0   0   1       19.757260              0.000000             1.386294        1.386294       9.300547    3.044522    3.367296    2.564949       2.484907  \n",
       "3      0      0      0      0      0      0      0      0      0      0   0   0   1       19.738394              0.000000             0.693147        0.693147       9.300547    3.713572    3.637586    3.044522       2.484907  \n",
       "4      0      0      0      0      0      0      0      0      0      0   0   0   1       19.519293              5.986452             0.693147        5.988961      12.871196    3.433987    3.295837    2.564949       4.442651  \n",
       "\n",
       "[5 rows x 213 columns]"
      ]
     },
     "execution_count": 6,
     "metadata": {},
     "output_type": "execute_result"
    }
   ],
   "source": [
    "dftouse.head()"
   ]
  },
  {
   "cell_type": "markdown",
   "metadata": {},
   "source": [
    "#### Split into training and test sets"
   ]
  },
  {
   "cell_type": "code",
   "execution_count": 7,
   "metadata": {
    "collapsed": false
   },
   "outputs": [],
   "source": [
    "from sklearn.cross_validation import train_test_split\n",
    "itrain, itest = train_test_split(xrange(dftouse.shape[0]), train_size=0.7)\n",
    "mask=np.ones(dftouse.shape[0], dtype='int')\n",
    "mask[itrain]=1\n",
    "mask[itest]=0\n",
    "mask = (mask==1)"
   ]
  },
  {
   "cell_type": "code",
   "execution_count": 8,
   "metadata": {
    "collapsed": true
   },
   "outputs": [],
   "source": [
    "continuous_test_features = ['Log_TotalUnits','YEAR BUILT','Log_Price_Sqft',\n",
    "                 '1-mean_log_Pft', '1-std_log_Pft', 'Log_1count','1-median_log_Pft',\n",
    "                 '2-mean_log_Pft', '2-std_log_Pft', 'Log_2count','2-median_log_Pft',\n",
    "                 '3-mean_log_Pft', '3-std_log_Pft', 'Log_3count','3-median_log_Pft',\n",
    "                 'Log_Hospitals', 'High School Graduation Rate', 'College Graduation Rate',\n",
    "                 'Hispanic', 'Black', 'Asian', 'White','Labor Force', 'Employed', 'Unemployed', 'Population','ZIP CODE']"
   ]
  },
  {
   "cell_type": "code",
   "execution_count": 9,
   "metadata": {
    "collapsed": false
   },
   "outputs": [
    {
     "data": {
      "text/plain": [
       "['Log_TotalUnits',\n",
       " 'YEAR BUILT',\n",
       " 'Log_Price_Sqft',\n",
       " '1-mean_log_Pft',\n",
       " '1-std_log_Pft',\n",
       " 'Log_1count',\n",
       " '1-median_log_Pft',\n",
       " '2-mean_log_Pft',\n",
       " '2-std_log_Pft',\n",
       " 'Log_2count',\n",
       " '2-median_log_Pft',\n",
       " '3-mean_log_Pft',\n",
       " '3-std_log_Pft',\n",
       " 'Log_3count',\n",
       " '3-median_log_Pft',\n",
       " 'Log_Hospitals',\n",
       " 'High School Graduation Rate',\n",
       " 'College Graduation Rate',\n",
       " 'Hispanic',\n",
       " 'Black',\n",
       " 'Asian',\n",
       " 'White',\n",
       " 'Labor Force',\n",
       " 'Employed',\n",
       " 'Unemployed',\n",
       " 'Population',\n",
       " 'ZIP CODE']"
      ]
     },
     "execution_count": 9,
     "metadata": {},
     "output_type": "execute_result"
    }
   ],
   "source": [
    "continuous_test_features"
   ]
  },
  {
   "cell_type": "code",
   "execution_count": 10,
   "metadata": {
    "collapsed": false
   },
   "outputs": [],
   "source": [
    "test_df = dftouse[continuous_test_features]"
   ]
  },
  {
   "cell_type": "markdown",
   "metadata": {},
   "source": [
    "## Bayesian Linear Regression"
   ]
  },
  {
   "cell_type": "markdown",
   "metadata": {},
   "source": [
    "With our next regression, we want to incorporate an element of uncertainty into our model to hopefully create better predictions as a result of modeling the underlying distribution. By using Bayesian probability theorems and features, we can utilize some of the information that we scraped that didn't make it into the dataset, such as the underlying means and standard deviations for some of our datasets. This will allow us to not only create more complex, sophisticated models, but also give us an estimate of the actual distribution should we want to generate our own datapoints from our model."
   ]
  },
  {
   "cell_type": "code",
   "execution_count": 110,
   "metadata": {
    "collapsed": false
   },
   "outputs": [
    {
     "name": "stdout",
     "output_type": "stream",
     "text": [
      "64155 27496\n",
      "[ 6.64809724  6.96221901  6.43652156 ..., -0.5535019  -0.25515888\n",
      " -0.91629073]\n"
     ]
    }
   ],
   "source": [
    "y_train = np.array(test_df['Log_Price_Sqft'][mask])\n",
    "y_test = np.array(test_df['Log_Price_Sqft'][~mask])\n",
    "\n",
    "print len(y_train),len(y_test)\n",
    "print y_test"
   ]
  },
  {
   "cell_type": "code",
   "execution_count": 12,
   "metadata": {
    "collapsed": false
   },
   "outputs": [
    {
     "data": {
      "text/html": [
       "<div>\n",
       "<table border=\"1\" class=\"dataframe\">\n",
       "  <thead>\n",
       "    <tr style=\"text-align: right;\">\n",
       "      <th></th>\n",
       "      <th>Log_TotalUnits</th>\n",
       "      <th>YEAR BUILT</th>\n",
       "      <th>Log_Price_Sqft</th>\n",
       "      <th>1-mean_log_Pft</th>\n",
       "      <th>1-std_log_Pft</th>\n",
       "      <th>Log_1count</th>\n",
       "      <th>1-median_log_Pft</th>\n",
       "      <th>2-mean_log_Pft</th>\n",
       "      <th>2-std_log_Pft</th>\n",
       "      <th>Log_2count</th>\n",
       "      <th>2-median_log_Pft</th>\n",
       "      <th>3-mean_log_Pft</th>\n",
       "      <th>3-std_log_Pft</th>\n",
       "      <th>Log_3count</th>\n",
       "      <th>3-median_log_Pft</th>\n",
       "      <th>Log_Hospitals</th>\n",
       "      <th>High School Graduation Rate</th>\n",
       "      <th>College Graduation Rate</th>\n",
       "      <th>Hispanic</th>\n",
       "      <th>Black</th>\n",
       "      <th>Asian</th>\n",
       "      <th>White</th>\n",
       "      <th>Labor Force</th>\n",
       "      <th>Employed</th>\n",
       "      <th>Unemployed</th>\n",
       "      <th>Population</th>\n",
       "      <th>ZIP CODE</th>\n",
       "    </tr>\n",
       "  </thead>\n",
       "  <tbody>\n",
       "    <tr>\n",
       "      <th>0</th>\n",
       "      <td>6.562444</td>\n",
       "      <td>1985</td>\n",
       "      <td>6.274469</td>\n",
       "      <td>5.484593</td>\n",
       "      <td>2.229844</td>\n",
       "      <td>3.295837</td>\n",
       "      <td>6.114937</td>\n",
       "      <td>6.345817</td>\n",
       "      <td>0.365633</td>\n",
       "      <td>2.564949</td>\n",
       "      <td>6.343441</td>\n",
       "      <td>5.556865</td>\n",
       "      <td>1.855114</td>\n",
       "      <td>3.091042</td>\n",
       "      <td>6.326369</td>\n",
       "      <td>4.442651</td>\n",
       "      <td>96.6</td>\n",
       "      <td>79.8</td>\n",
       "      <td>0.047922</td>\n",
       "      <td>0.035216</td>\n",
       "      <td>0.137032</td>\n",
       "      <td>0.759497</td>\n",
       "      <td>77.4</td>\n",
       "      <td>73.5</td>\n",
       "      <td>5.0</td>\n",
       "      <td>53754</td>\n",
       "      <td>10016</td>\n",
       "    </tr>\n",
       "    <tr>\n",
       "      <th>1</th>\n",
       "      <td>6.549651</td>\n",
       "      <td>1964</td>\n",
       "      <td>6.348931</td>\n",
       "      <td>6.945146</td>\n",
       "      <td>0.530601</td>\n",
       "      <td>3.091042</td>\n",
       "      <td>6.999318</td>\n",
       "      <td>6.455037</td>\n",
       "      <td>1.230122</td>\n",
       "      <td>4.007333</td>\n",
       "      <td>6.627145</td>\n",
       "      <td>6.285564</td>\n",
       "      <td>1.763125</td>\n",
       "      <td>3.135494</td>\n",
       "      <td>6.708895</td>\n",
       "      <td>3.218876</td>\n",
       "      <td>98.4</td>\n",
       "      <td>80.7</td>\n",
       "      <td>0.005956</td>\n",
       "      <td>0.011783</td>\n",
       "      <td>0.070935</td>\n",
       "      <td>0.884035</td>\n",
       "      <td>74.5</td>\n",
       "      <td>70.3</td>\n",
       "      <td>5.6</td>\n",
       "      <td>46169</td>\n",
       "      <td>10028</td>\n",
       "    </tr>\n",
       "    <tr>\n",
       "      <th>2</th>\n",
       "      <td>1.386294</td>\n",
       "      <td>1925</td>\n",
       "      <td>10.456713</td>\n",
       "      <td>6.204245</td>\n",
       "      <td>2.117714</td>\n",
       "      <td>3.044522</td>\n",
       "      <td>6.595381</td>\n",
       "      <td>6.777954</td>\n",
       "      <td>0.932843</td>\n",
       "      <td>3.367296</td>\n",
       "      <td>6.824027</td>\n",
       "      <td>6.252587</td>\n",
       "      <td>1.541622</td>\n",
       "      <td>2.564949</td>\n",
       "      <td>6.714776</td>\n",
       "      <td>2.484907</td>\n",
       "      <td>98.6</td>\n",
       "      <td>79.5</td>\n",
       "      <td>0.008050</td>\n",
       "      <td>0.023434</td>\n",
       "      <td>0.100010</td>\n",
       "      <td>0.852816</td>\n",
       "      <td>71.4</td>\n",
       "      <td>66.9</td>\n",
       "      <td>6.3</td>\n",
       "      <td>29317</td>\n",
       "      <td>10022</td>\n",
       "    </tr>\n",
       "    <tr>\n",
       "      <th>3</th>\n",
       "      <td>0.693147</td>\n",
       "      <td>1925</td>\n",
       "      <td>10.437847</td>\n",
       "      <td>6.935865</td>\n",
       "      <td>0.978736</td>\n",
       "      <td>3.713572</td>\n",
       "      <td>7.038995</td>\n",
       "      <td>6.232447</td>\n",
       "      <td>1.982575</td>\n",
       "      <td>3.637586</td>\n",
       "      <td>6.533203</td>\n",
       "      <td>6.204245</td>\n",
       "      <td>2.117714</td>\n",
       "      <td>3.044522</td>\n",
       "      <td>6.595381</td>\n",
       "      <td>2.484907</td>\n",
       "      <td>97.6</td>\n",
       "      <td>80.9</td>\n",
       "      <td>0.011381</td>\n",
       "      <td>0.016499</td>\n",
       "      <td>0.097613</td>\n",
       "      <td>0.860500</td>\n",
       "      <td>71.6</td>\n",
       "      <td>67.0</td>\n",
       "      <td>6.5</td>\n",
       "      <td>29699</td>\n",
       "      <td>10022</td>\n",
       "    </tr>\n",
       "    <tr>\n",
       "      <th>4</th>\n",
       "      <td>5.988961</td>\n",
       "      <td>1998</td>\n",
       "      <td>6.648097</td>\n",
       "      <td>5.359823</td>\n",
       "      <td>2.291699</td>\n",
       "      <td>3.433987</td>\n",
       "      <td>6.339263</td>\n",
       "      <td>5.484593</td>\n",
       "      <td>2.229844</td>\n",
       "      <td>3.295837</td>\n",
       "      <td>6.114937</td>\n",
       "      <td>6.345817</td>\n",
       "      <td>0.365633</td>\n",
       "      <td>2.564949</td>\n",
       "      <td>6.343441</td>\n",
       "      <td>4.442651</td>\n",
       "      <td>96.9</td>\n",
       "      <td>80.3</td>\n",
       "      <td>0.037112</td>\n",
       "      <td>0.035193</td>\n",
       "      <td>0.137675</td>\n",
       "      <td>0.769212</td>\n",
       "      <td>76.9</td>\n",
       "      <td>72.8</td>\n",
       "      <td>5.3</td>\n",
       "      <td>52624</td>\n",
       "      <td>10016</td>\n",
       "    </tr>\n",
       "  </tbody>\n",
       "</table>\n",
       "</div>"
      ],
      "text/plain": [
       "   Log_TotalUnits  YEAR BUILT  Log_Price_Sqft  1-mean_log_Pft  1-std_log_Pft  Log_1count  1-median_log_Pft  2-mean_log_Pft  2-std_log_Pft  Log_2count  2-median_log_Pft  3-mean_log_Pft  3-std_log_Pft  Log_3count  3-median_log_Pft  Log_Hospitals  High School Graduation Rate  College Graduation Rate  Hispanic     Black     Asian     White  Labor Force  Employed  Unemployed  Population  ZIP CODE\n",
       "0        6.562444        1985        6.274469        5.484593       2.229844    3.295837          6.114937        6.345817       0.365633    2.564949          6.343441        5.556865       1.855114    3.091042          6.326369       4.442651                         96.6                     79.8  0.047922  0.035216  0.137032  0.759497         77.4      73.5         5.0       53754     10016\n",
       "1        6.549651        1964        6.348931        6.945146       0.530601    3.091042          6.999318        6.455037       1.230122    4.007333          6.627145        6.285564       1.763125    3.135494          6.708895       3.218876                         98.4                     80.7  0.005956  0.011783  0.070935  0.884035         74.5      70.3         5.6       46169     10028\n",
       "2        1.386294        1925       10.456713        6.204245       2.117714    3.044522          6.595381        6.777954       0.932843    3.367296          6.824027        6.252587       1.541622    2.564949          6.714776       2.484907                         98.6                     79.5  0.008050  0.023434  0.100010  0.852816         71.4      66.9         6.3       29317     10022\n",
       "3        0.693147        1925       10.437847        6.935865       0.978736    3.713572          7.038995        6.232447       1.982575    3.637586          6.533203        6.204245       2.117714    3.044522          6.595381       2.484907                         97.6                     80.9  0.011381  0.016499  0.097613  0.860500         71.6      67.0         6.5       29699     10022\n",
       "4        5.988961        1998        6.648097        5.359823       2.291699    3.433987          6.339263        5.484593       2.229844    3.295837          6.114937        6.345817       0.365633    2.564949          6.343441       4.442651                         96.9                     80.3  0.037112  0.035193  0.137675  0.769212         76.9      72.8         5.3       52624     10016"
      ]
     },
     "execution_count": 12,
     "metadata": {},
     "output_type": "execute_result"
    }
   ],
   "source": [
    "test_df.head()"
   ]
  },
  {
   "cell_type": "code",
   "execution_count": 14,
   "metadata": {
    "collapsed": false
   },
   "outputs": [],
   "source": [
    "X = test_df.drop(['Log_Price_Sqft','ZIP CODE'], axis=1)"
   ]
  },
  {
   "cell_type": "markdown",
   "metadata": {},
   "source": [
    "## Principal Component Analysis"
   ]
  },
  {
   "cell_type": "markdown",
   "metadata": {},
   "source": [
    "In order to perform a Bayesian regression on our data, we first opted to perform a Principal Component Analysis, which greatly reduces the dimensions of the data while retaining most of the variance between the predictors. \n",
    "This means that we lose the identity of the given labels of our predictors, and identifying the correlation between outputs and certain inputs at the end will be impossible. We benefit, however, by reducing the number of actual predictors for our y-value. In doing this, we avoid the 'curse of 'dimensionality', which occurs when the number of dimensions of the data is large. When this occurs, relationships between datapoints are lost in the greater distance between two points created by the added dimensions.\n",
    "\n",
    "Another point: our model is built off the assumption that our inputs are Normally distributed, when in fact they are not. The problem lies with our demographic data (race, employment status, etc.), which is calculated on a zip code level. This means that it is bucketed into around 200 values for each demographic column, rather than being spread out like a true Normal distribution. By running a PCA, much of that data will be shrunken into a dimension that probably does not account for as much of the variance as another vector."
   ]
  },
  {
   "cell_type": "markdown",
   "metadata": {},
   "source": [
    "We first normalize all of the data, since Principal Component Analysis is very sensitive to the relative scale of the input vectors. In doing so, we hope that large values such as price/sqft. and population do not overshadow smaller numbers represented by percentages."
   ]
  },
  {
   "cell_type": "code",
   "execution_count": 15,
   "metadata": {
    "collapsed": false
   },
   "outputs": [],
   "source": [
    "from sklearn.decomposition import PCA as sklearnPCA\n",
    "\n",
    "sklearn_pca = sklearnPCA(n_components=3)\n",
    "sklearn_transf = sklearn_pca.fit_transform(X)"
   ]
  },
  {
   "cell_type": "code",
   "execution_count": 20,
   "metadata": {
    "collapsed": true
   },
   "outputs": [],
   "source": [
    "# X_train = X[mask]\n",
    "# X_test = X[~mask]\n",
    "\n",
    "X_train = sklearn_transf[mask]\n",
    "X_test = sklearn_transf[~mask]"
   ]
  },
  {
   "cell_type": "code",
   "execution_count": 21,
   "metadata": {
    "collapsed": false
   },
   "outputs": [],
   "source": [
    "# print X_test.count()"
   ]
  },
  {
   "cell_type": "code",
   "execution_count": 22,
   "metadata": {
    "collapsed": false
   },
   "outputs": [
    {
     "data": {
      "text/plain": [
       "array([[  4043.97790564,    -42.60836122,    -57.25684223],\n",
       "       [ 11628.97471225,    -20.78525471,    -55.44686161],\n",
       "       [ 28480.96806508,     20.26666163,    -48.58809411],\n",
       "       ..., \n",
       "       [ 17875.95841579,     16.23977627,      3.34022722],\n",
       "       [  2254.95787732,     19.03476605,      0.71438309],\n",
       "       [ -7457.04015338,      2.53766159,      2.71125892]])"
      ]
     },
     "execution_count": 22,
     "metadata": {},
     "output_type": "execute_result"
    }
   ],
   "source": [
    "sklearn_transf"
   ]
  },
  {
   "cell_type": "code",
   "execution_count": 23,
   "metadata": {
    "collapsed": false
   },
   "outputs": [],
   "source": [
    "feature1 = X_train[:,0]\n",
    "feature2 = X_train[:,1]\n",
    "feature3 = X_train[:,2]"
   ]
  },
  {
   "cell_type": "code",
   "execution_count": 24,
   "metadata": {
    "collapsed": false
   },
   "outputs": [
    {
     "name": "stdout",
     "output_type": "stream",
     "text": [
      "25198.2492886 30.1833170117 15.1056815647\n"
     ]
    }
   ],
   "source": [
    "mu1, sd1 = np.mean(feature1), np.std(feature1)\n",
    "mu2, sd2 = np.mean(feature2), np.std(feature2)\n",
    "mu3, sd3 = np.mean(feature3), np.std(feature3)\n",
    "\n",
    "print sd1, sd2, sd3"
   ]
  },
  {
   "cell_type": "markdown",
   "metadata": {},
   "source": [
    "We see that almost all of the variance is represented in the first component, while very little of it is made up by the other two dimensions of the vector."
   ]
  },
  {
   "cell_type": "code",
   "execution_count": 25,
   "metadata": {
    "collapsed": true
   },
   "outputs": [],
   "source": [
    "pca_test = sklearn_pca.fit_transform(dftouse[continuous_test_features][~mask])\n",
    "testf1 = sklearn_transf[:,0]\n",
    "testf2 = sklearn_transf[:,1]\n",
    "testf3 = sklearn_transf[:,2]"
   ]
  },
  {
   "cell_type": "markdown",
   "metadata": {},
   "source": [
    "We used the library pymc for most of our Bayesian Linear Regression, a very convenient, intuitive library that also had a lot of power. It allowed us to not only create common distributions, but create distributions represented as combinations and transformations of other random variables."
   ]
  },
  {
   "cell_type": "code",
   "execution_count": 26,
   "metadata": {
    "collapsed": true
   },
   "outputs": [],
   "source": [
    "import pymc"
   ]
  },
  {
   "cell_type": "markdown",
   "metadata": {},
   "source": [
    "Our bottom-line regression is the same between normal and Bayesian regression. Our objective is still to find the weights for our coefficient vector, represented as b and which will calculate: \n",
    "$$y = b_{0} + b_{1}x_{1} + b_{2}x_{2} + ...$$\n",
    "\n",
    "The main caveat is that instead of calculating the Maximum Likelihood Estimate, we calculate for the Maximum A Posteriori, where:\n",
    "\n",
    "$$P(D |\\theta) \\propto P(\\theta | D) P(D) $$\n",
    "\n",
    "$$and$$\n",
    "\n",
    "$$\\theta^{MAP} \\propto \\underset{\\theta}{\\operatorname{argmax}} P(\\theta | D) P(D) $$\n",
    "\n",
    "We start each beta value with a Uniform prior, an uninformative prior. A Uniform prior distribution for the regression coefficients says that all possible coefficients are equally likely, which means that in essence there is no prior distribution and it starts as an MLE. This has to be done, since the transformation into principal components means that we no longer have any information that we know about the vectors. "
   ]
  },
  {
   "cell_type": "code",
   "execution_count": 27,
   "metadata": {
    "collapsed": false
   },
   "outputs": [
    {
     "name": "stdout",
     "output_type": "stream",
     "text": [
      "0.803823227157\n"
     ]
    }
   ],
   "source": [
    "train_std = np.std(y_train)\n",
    "print train_std"
   ]
  },
  {
   "cell_type": "code",
   "execution_count": 29,
   "metadata": {
    "collapsed": false
   },
   "outputs": [],
   "source": [
    "# http://austinrochford.com/posts/2013-09-02-prior-distributions-for-bayesian-regression-using-pymc.html\n",
    "# pymc.Normal(name='beta1', mu=0, tau=1)\n",
    "beta_min = -10**6\n",
    "beta_max = 10**6\n",
    "\n",
    "beta0_ols = pymc.Uniform(name='beta0', lower=beta_min, upper=beta_max)\n",
    "beta1_ols = pymc.Uniform(name='beta1', lower=beta_min, upper=beta_max)\n",
    "beta2_ols = pymc.Uniform(name='beta2', lower=beta_min, upper=beta_max)\n",
    "beta3_ols = pymc.Uniform(name='beta3', lower=beta_min, upper=beta_max)\n",
    "\n",
    "@pymc.deterministic\n",
    "def y_hat_ols(x1=feature1, x2=feature2, x3=feature3, \\\n",
    "              beta0 = beta0_ols, beta1=beta1_ols, beta2=beta2_ols, beta3=beta3_ols):\n",
    "    return beta0 + beta1 * x1 + beta2 * x2 + beta3 * x3"
   ]
  },
  {
   "cell_type": "code",
   "execution_count": 30,
   "metadata": {
    "collapsed": true
   },
   "outputs": [],
   "source": [
    "test_transf = sklearn_pca.fit_transform(X_test)"
   ]
  },
  {
   "cell_type": "markdown",
   "metadata": {},
   "source": [
    "The conjugate of the Normal distribution is the Normal itself, which means that with a Normally distributed likelihood function, using a Normal prior will ensure us that the posterior distribution is also Normal."
   ]
  },
  {
   "cell_type": "code",
   "execution_count": 31,
   "metadata": {
    "collapsed": false
   },
   "outputs": [
    {
     "name": "stdout",
     "output_type": "stream",
     "text": [
      "64155\n"
     ]
    }
   ],
   "source": [
    "print len(y_train)\n",
    "y_train = y_train.reshape(64155,1)"
   ]
  },
  {
   "cell_type": "code",
   "execution_count": 32,
   "metadata": {
    "collapsed": false
   },
   "outputs": [],
   "source": [
    "Y_ols = pymc.Normal(name='Y_ols', mu=y_hat_ols, tau=np.sqrt(train_std), value=y_train, observed=True)"
   ]
  },
  {
   "cell_type": "code",
   "execution_count": 33,
   "metadata": {
    "collapsed": true
   },
   "outputs": [],
   "source": [
    "ols_model = pymc.Model([Y_ols, beta0_ols, beta1_ols, beta2_ols, beta3_ols])\n",
    "ols_map = pymc.MAP(ols_model)\n",
    "ols_map.fit()"
   ]
  },
  {
   "cell_type": "code",
   "execution_count": 34,
   "metadata": {
    "collapsed": false
   },
   "outputs": [
    {
     "name": "stdout",
     "output_type": "stream",
     "text": [
      "beta3 -0.0195834602285\n",
      "beta2 0.00207297371755\n",
      "beta1 3.25844007917e-06\n",
      "beta0 5.43237610927\n",
      "[5.432376109273955, 3.258440079172453e-06, 0.002072973717554737, -0.019583460228531767]\n"
     ]
    }
   ],
   "source": [
    "def get_coefficients(map_):\n",
    "    ret = [{str(variable): variable.value} for variable in map_.variables if str(variable).startswith('beta')]\n",
    "    betas = [0] * len(ret)\n",
    "\n",
    "    for param in ret:\n",
    "        for k,v in param.items():\n",
    "            print k, v\n",
    "            spot = int(k[-1])\n",
    "            betas[spot] = float(v)\n",
    "\n",
    "    return betas\n",
    "\n",
    "betas = get_coefficients(ols_map)\n",
    "print betas"
   ]
  },
  {
   "cell_type": "code",
   "execution_count": 35,
   "metadata": {
    "collapsed": true
   },
   "outputs": [],
   "source": [
    "from scipy.stats.stats import pearsonr\n",
    "\n",
    "def pearson_scorer(pred, actual):\n",
    "    rho, pvals = pearsonr(pred, actual)\n",
    "    return np.abs(rho), pvals"
   ]
  },
  {
   "cell_type": "code",
   "execution_count": 47,
   "metadata": {
    "collapsed": false
   },
   "outputs": [
    {
     "name": "stdout",
     "output_type": "stream",
     "text": [
      "0.500894899307 0.305665114358\n"
     ]
    }
   ],
   "source": [
    "def check_betas(y_test, X_test, b):\n",
    "    \n",
    "    y_preds = []\n",
    "    \n",
    "    for row in X_test:\n",
    "        tot = b[0]\n",
    "        for y, b_ in zip(row, b[1:]):\n",
    "            tot +=float(y)*b_\n",
    "        y_preds.append(tot)\n",
    "    \n",
    "    diff = []\n",
    "    for y, y_bar in zip(y_preds, y_test):\n",
    "        diff.append(abs(y - y_bar))\n",
    "    \n",
    "    avg = sum(diff)/len(diff)\n",
    "    r, pv = pearsonr(y_test, y_preds)\n",
    "    \n",
    "    return y_preds, avg, r\n",
    "\n",
    "ols_preds, avg, r = check_betas(y_test, test_transf, betas)\n",
    "print avg, r\n"
   ]
  },
  {
   "cell_type": "code",
   "execution_count": 184,
   "metadata": {
    "collapsed": false
   },
   "outputs": [
    {
     "name": "stdout",
     "output_type": "stream",
     "text": [
      "[  6.27446854   6.34893112  10.45671287 ...,  -0.98082925   0.38566248\n",
      "  -0.64067311]\n"
     ]
    }
   ],
   "source": [
    "from sklearn import linear_model\n",
    "# print y_train\n",
    "clf = linear_model.BayesianRidge()\n",
    "clf.fit(X_train, y_train)\n",
    "print y_train\n",
    "# print type(y_train)\n",
    "gaus = clf.predict(X_test)"
   ]
  },
  {
   "cell_type": "code",
   "execution_count": 78,
   "metadata": {
    "collapsed": false
   },
   "outputs": [
    {
     "data": {
      "image/png": "[encoded data removed]",
      "text/plain": [
       "<matplotlib.figure.Figure at 0x10e7a9c90>"
      ]
     },
     "metadata": {},
     "output_type": "display_data"
    }
   ],
   "source": [
    "plt.scatter(y_test,ols_preds)\n",
    "plt.xlabel(\"log(Actual Prices)\")\n",
    "plt.ylabel(\"log(Predicted Prices)\")\n",
    "plt.title(\"Bayesian Linear Regression\")\n",
    "plt.ylim(0,8)\n",
    "# plt.xlim(6,20)\n",
    "# plt.plot([0, 0], [1200000, 1200000])\n",
    "xy = range(-2,11)\n",
    "plt.plot(xy, xy)\n",
    "plt.show()"
   ]
  },
  {
   "cell_type": "markdown",
   "metadata": {},
   "source": [
    "Judging from the graph above, it is clear that our predicted y values do not adequately account for the wide range of values in the dataset. It tends to predict conservatively, predicting prices around the mean population. This is due to its nature as a Normal distribution, as the variance of N probably does not adequately account for the tail ends of the Normal. We conjecture that the use of Principal Component Analysis may have squashed some of the variance that was inherent in the dataset, as smaller variance of the components after normalizing is to be expected."
   ]
  },
  {
   "cell_type": "markdown",
   "metadata": {},
   "source": [
    "# Bayesian Conjugacy"
   ]
  },
  {
   "cell_type": "markdown",
   "metadata": {},
   "source": [
    "This time we try another Bayesian regression, except this time we will actually utilize the underlying information in trying to find the parameters of the distribution. We examine Bayes' Theorem in relation to our dataset, which states that:"
   ]
  },
  {
   "cell_type": "markdown",
   "metadata": {},
   "source": [
    "$$ P(Y|X) \\propto P(X|Y)P(Y) $$\n",
    "\n",
    "We make several assumptions about the dataset and attach distributions to all of the individual probabilities on the right in order to generative an acceptable, working posterior distribution for P(Y)."
   ]
  },
  {
   "cell_type": "markdown",
   "metadata": {},
   "source": [
    "#### The Prior Distribution"
   ]
  },
  {
   "cell_type": "markdown",
   "metadata": {},
   "source": [
    "The prior probability of house prices in New York City can be assumed to be drawn from a Normal distribution, and in our case we will now be using a marginally informative prior rather than an uninformative one. \n",
    "\n",
    "In our case, we have taken the log of the housing data in order to account for the many outliers, and then normalized the data in order to make it look like a Normal distribution. With the Law of Large Numbers, we can assume that with our datapoints reaching the hundreds of thousands we can safely assume that the distribution for Y is approaching a Normal distribution."
   ]
  },
  {
   "cell_type": "markdown",
   "metadata": {},
   "source": [
    "$$ P(Y) \\sim N(\\mu_{y},\\sigma_{y})$$\n",
    "\n"
   ]
  },
  {
   "cell_type": "code",
   "execution_count": 129,
   "metadata": {
    "collapsed": true
   },
   "outputs": [],
   "source": [
    "log_price = test_df['Log_Price_Sqft']\n",
    "lpmu, lpstd = np.mean(log_price), np.std(log_price)"
   ]
  },
  {
   "cell_type": "markdown",
   "metadata": {},
   "source": [
    "#### Likelihood Estimator for X"
   ]
  },
  {
   "cell_type": "markdown",
   "metadata": {},
   "source": [
    "Our marginal likelihood distribution is heavily linked and we cannot assume indipendence between X and Y to get a nice and tidy prior distribution. (We would hope that) there is a high level of correlation between the two and will shift both the sample mean and standard deviation given the prior information. Despite this, we know that all the predictors in our input variables remain Normal, as:\n",
    "\n",
    "$$ P(X | Y) \\sim N(\\mu_{x|y}, \\sigma_{x|y})$$\n",
    "\n",
    "Given that we have calculated our input probabilities directly from the citywide data for all of our estimators, we will make a very heavy assumption that the values for mu and sigma remain unchanged given that we already know the true distribution, and we draw from P(X) directly. While this most definitely will skew some of our results, the underlying dataset is large enough that hopefully it will not be too detrimental to our results.\n",
    "\n",
    "Because both the prior distribution and the likelihood are both Normal, our posterior will be one as well as a result of conjugacy. As a result, and knowing enough information about the likelihood, we can model P(Y|X) itself directly with a Normal distribution.\n",
    "\n",
    "To make our dataset a little easier to work with, we perform Principal Component Analysis once more, in order to bring our dataset down to one dimension from five and make simple Normal conjugacy possible. In doing so, we maintain most of the variance from our previous distribution, although we lose almost all the information about the mean."
   ]
  },
  {
   "cell_type": "code",
   "execution_count": 168,
   "metadata": {
    "collapsed": false
   },
   "outputs": [
    {
     "name": "stdout",
     "output_type": "stream",
     "text": [
      "[[-0.90904542]\n",
      " [-1.97471092]\n",
      " [-1.68299216]\n",
      " [-1.81992232]\n",
      " [-1.31509248]]\n"
     ]
    }
   ],
   "source": [
    "pca = sklearnPCA(n_components=1)\n",
    "transf = pca.fit_transform(X_cols)\n",
    "\n",
    "transf_train = transf[mask]\n",
    "transf_test = transf[~mask]\n",
    "\n",
    "print transf_train[:5]"
   ]
  },
  {
   "cell_type": "markdown",
   "metadata": {},
   "source": [
    "Assuming that we know about the prior distribution, we can use P(Y)'s mean and variance to help us compute our posterior distribution: \n",
    "\n",
    "$$ \\mu_{0}, \\sigma_{0}$$"
   ]
  },
  {
   "cell_type": "markdown",
   "metadata": {},
   "source": [
    "Principal Component Analysis is very useful in that it allows transformation of a dataset without sacrificing much of the variance that comes along with it; in this case, this has allowed us to keep the variance more or less the same, which is vital for calculating the posterior distribution. \n",
    "\n",
    "$$ \\sigma' $$"
   ]
  },
  {
   "cell_type": "markdown",
   "metadata": {},
   "source": [
    "We can compute the hyperparameters necessary for our posterior Normal distribution, namely:\n",
    "    \n",
    "$$ \\mu = (\\frac{u_{0}}{\\sigma_{0}^{2}} + \\frac{\\sum_{i=1}^{n} x_{i} }{ \\sigma^{2}})  /  (\\frac{1}{\\sigma_{0}^{2}+\\frac{n}{\\sigma^{2}}}) ,$$\n",
    "\n",
    "Using our prior and likelihood distribution parameters, as well as information taken from our training set.\n"
   ]
  },
  {
   "cell_type": "code",
   "execution_count": 141,
   "metadata": {
    "collapsed": false
   },
   "outputs": [],
   "source": [
    "import math\n",
    "tr_sd = np.std(transf_train)\n",
    "\n",
    "# sigma = math.pow((1/math.pow(lpstd,2) + len(y_train)/math.pow(sigma,2)),-1)\n",
    "\n",
    "x_i = 0\n",
    "for x in transf_train:\n",
    "    x_i += x[0]\n",
    "\n",
    "u = (lpmu/math.pow(lpstd,2) + x_i/math.pow(sigma, 2))/(1/math.pow(lpstd,2)+(n/math.pow(sigma,2)))\n",
    "\n"
   ]
  },
  {
   "cell_type": "code",
   "execution_count": 150,
   "metadata": {
    "collapsed": false
   },
   "outputs": [
    {
     "name": "stdout",
     "output_type": "stream",
     "text": [
      "8.45013209171 64156.5548005\n"
     ]
    }
   ],
   "source": [
    "print u, sigma"
   ]
  },
  {
   "cell_type": "code",
   "execution_count": 176,
   "metadata": {
    "collapsed": false
   },
   "outputs": [],
   "source": [
    "times = len(y_test)\n",
    "vals = np.random.normal(u, lpstd, times)\n"
   ]
  },
  {
   "cell_type": "code",
   "execution_count": 177,
   "metadata": {
    "collapsed": false
   },
   "outputs": [
    {
     "name": "stdout",
     "output_type": "stream",
     "text": [
      "[ 7.67461792  9.45536882  7.98288558 ...,  8.305353    8.74290106\n",
      "  8.09608559]\n"
     ]
    }
   ],
   "source": [
    "print vals"
   ]
  },
  {
   "cell_type": "code",
   "execution_count": 183,
   "metadata": {
    "collapsed": false
   },
   "outputs": [
    {
     "data": {
      "image/png": "[encoded data removed]",
      "text/plain": [
       "<matplotlib.figure.Figure at 0x10bfd3650>"
      ]
     },
     "metadata": {},
     "output_type": "display_data"
    }
   ],
   "source": [
    "plt.hist(y_test, 40,label='Actual Outputs')\n",
    "plt.hist(vals,40, label='Generated Outputs')\n",
    "plt.legend()\n",
    "plt.xlabel(\"log(Price/Sq. Feet)\")\n",
    "plt.ylabel(\"Number of Occurrences\")\n",
    "plt.title(\"Actual Outputs\")\n",
    "# plt.ylim(0,8)\n",
    "# plt.xlim(6,20)\n",
    "# plt.plot([0, 0], [1200000, 1200000])\n",
    "xy = range(-2,11)\n",
    "plt.plot(xy, xy)\n",
    "plt.show()"
   ]
  },
  {
   "cell_type": "markdown",
   "metadata": {},
   "source": [
    "Our generative model seems to overestimate the mean, and is much more spread out than the actual target data, which seems to be much more bunched around 5.8 or so. Despite the log scale, the outputs aren't necessarily orders of magnitude off, since the data was already logged when we began regressing on it."
   ]
  },
  {
   "cell_type": "code",
   "execution_count": null,
   "metadata": {
    "collapsed": true
   },
   "outputs": [],
   "source": []
  }
 ],
 "metadata": {
  "kernelspec": {
   "display_name": "Python 2",
   "language": "python",
   "name": "python2"
  },
  "language_info": {
   "codemirror_mode": {
    "name": "ipython",
    "version": 2
   },
   "file_extension": ".py",
   "mimetype": "text/x-python",
   "name": "python",
   "nbconvert_exporter": "python",
   "pygments_lexer": "ipython2",
   "version": "2.7.10"
  }
 },
 "nbformat": 4,
 "nbformat_minor": 0
}
